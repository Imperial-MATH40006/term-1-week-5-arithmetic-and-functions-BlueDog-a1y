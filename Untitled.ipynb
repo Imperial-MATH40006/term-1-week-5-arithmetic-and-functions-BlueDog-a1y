{
 "cells": [
  {
   "cell_type": "code",
   "execution_count": 89,
   "id": "1cafaa4b",
   "metadata": {},
   "outputs": [
    {
     "data": {
      "text/plain": [
       "(-0.5493061443340549+1.5707963267948966j)"
      ]
     },
     "execution_count": 89,
     "metadata": {},
     "output_type": "execute_result"
    }
   ],
   "source": [
    "from cmath import asin, acos, atanh, log, sqrt\n",
    "atanh(-2)"
   ]
  },
  {
   "cell_type": "code",
   "execution_count": null,
   "id": "68474b9c",
   "metadata": {},
   "outputs": [],
   "source": []
  }
 ],
 "metadata": {
  "kernelspec": {
   "display_name": "Python 3 (ipykernel)",
   "language": "python",
   "name": "python3"
  },
  "language_info": {
   "codemirror_mode": {
    "name": "ipython",
    "version": 3
   },
   "file_extension": ".py",
   "mimetype": "text/x-python",
   "name": "python",
   "nbconvert_exporter": "python",
   "pygments_lexer": "ipython3",
   "version": "3.11.5"
  }
 },
 "nbformat": 4,
 "nbformat_minor": 5
}
