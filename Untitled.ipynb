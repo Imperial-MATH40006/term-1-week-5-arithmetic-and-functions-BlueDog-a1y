{
 "cells": [
  {
   "cell_type": "code",
   "execution_count": 40,
   "id": "1163ed60",
   "metadata": {},
   "outputs": [
    {
     "data": {
      "text/plain": [
       "0.5493061443340549"
      ]
     },
     "execution_count": 40,
     "metadata": {},
     "output_type": "execute_result"
    }
   ],
   "source": [
    "from math import sqrt, cos, pi, exp, log, tan, sinh, atan\n",
    "(1/2)*log((2+1)/(2-1))"
   ]
  },
  {
   "cell_type": "code",
   "execution_count": null,
   "id": "e3914cbd",
   "metadata": {},
   "outputs": [],
   "source": []
  }
 ],
 "metadata": {
  "kernelspec": {
   "display_name": "Python 3 (ipykernel)",
   "language": "python",
   "name": "python3"
  },
  "language_info": {
   "codemirror_mode": {
    "name": "ipython",
    "version": 3
   },
   "file_extension": ".py",
   "mimetype": "text/x-python",
   "name": "python",
   "nbconvert_exporter": "python",
   "pygments_lexer": "ipython3",
   "version": "3.11.5"
  }
 },
 "nbformat": 4,
 "nbformat_minor": 5
}
