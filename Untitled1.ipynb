{
 "cells": [
  {
   "cell_type": "markdown",
   "id": "4db4bc36",
   "metadata": {},
   "source": [
    "# AN Introduction to Markdown"
   ]
  },
  {
   "cell_type": "markdown",
   "id": "c3e4a03f",
   "metadata": {},
   "source": [
    "## Section 1: Simple Calculations\n",
    "This is a text cell, introducing the calculation\n",
    "'''python \n",
    "2+2\n",
    "'''"
   ]
  },
  {
   "cell_type": "code",
   "execution_count": 5,
   "id": "a3a05581",
   "metadata": {},
   "outputs": [
    {
     "data": {
      "text/plain": [
       "(2+5j)"
      ]
     },
     "execution_count": 5,
     "metadata": {},
     "output_type": "execute_result"
    }
   ],
   "source": [
    "import numpy\n"
   ]
  },
  {
   "cell_type": "markdown",
   "id": "1cccf1b7",
   "metadata": {},
   "source": [
    "this is another text cell, introducing another calculation $3^7$, which we form at\n",
    "'''python\n",
    "3**6\n",
    "'''"
   ]
  },
  {
   "cell_type": "code",
   "execution_count": 2,
   "id": "a49c4251",
   "metadata": {},
   "outputs": [
    {
     "data": {
      "text/plain": [
       "2187"
      ]
     },
     "execution_count": 2,
     "metadata": {},
     "output_type": "execute_result"
    }
   ],
   "source": [
    "3**7"
   ]
  }
 ],
 "metadata": {
  "kernelspec": {
   "display_name": "Python 3 (ipykernel)",
   "language": "python",
   "name": "python3"
  },
  "language_info": {
   "codemirror_mode": {
    "name": "ipython",
    "version": 3
   },
   "file_extension": ".py",
   "mimetype": "text/x-python",
   "name": "python",
   "nbconvert_exporter": "python",
   "pygments_lexer": "ipython3",
   "version": "3.11.5"
  }
 },
 "nbformat": 4,
 "nbformat_minor": 5
}
